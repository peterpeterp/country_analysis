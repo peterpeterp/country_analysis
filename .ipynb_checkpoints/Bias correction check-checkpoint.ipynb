{
 "cells": [
  {
   "cell_type": "code",
   "execution_count": 22,
   "metadata": {
    "collapsed": false
   },
   "outputs": [],
   "source": [
    "import sys\n",
    "stdout = sys.stdout\n",
    "reload(sys)\n",
    "sys.setdefaultencoding('utf-8')\n",
    "sys.stdout = stdout\n",
    "\n",
    "import glob,os,pickle\n",
    "import numpy as np\n",
    "from netCDF4 import Dataset,netcdftime,num2date\n",
    "import pandas as pd\n",
    "import matplotlib.pylab as plt\n",
    "from colour import Color\n",
    "\n",
    "sys.path.append('/Users/peterpfleiderer/Documents/Projects/country_analysis/country_analysis_scripts/')\n",
    "import country_analysis; reload(country_analysis)\n",
    "\n",
    "os.chdir('/Users/peterpfleiderer/Documents/Projects/')\n",
    "\n",
    "COU=country_analysis.country_analysis('SEN','country_analysis/data/SEN_complete/',seasons={'annual':range(1,13)},additional_tag='_complete')\n",
    "COU.load_data()\n",
    "COU.unit_conversions()"
   ]
  },
  {
   "cell_type": "code",
   "execution_count": 27,
   "metadata": {
    "collapsed": true
   },
   "outputs": [],
   "source": [
    "# plot settings\n",
    "\n",
    "plot_dict={24:{'label':'CORDEX','color':'gray'},\n",
    "           19:{'label':'CORDEX_BC','color':'red'},\n",
    "           1:{'label':'CMIP5_BC','color':'green'},\n",
    "           28:{'label':'EWEMBI','color':'blue'},\n",
    "          }\n"
   ]
  },
  {
   "cell_type": "code",
   "execution_count": null,
   "metadata": {
    "collapsed": false
   },
   "outputs": [],
   "source": [
    "for indicator in ['TXx','RX1','RX5','pr','tas']:\n",
    "    pr=COU.selection([indicator],show_selection=True)\n",
    "    COU.area_average(selection=pr,mask_style='lat_weighted',overwrite=False)\n",
    "    COU.unit_conversions()\n",
    "\n",
    "    fig,ax = plt.subplots(nrows=1, ncols=1, figsize=(8,4))\n",
    "    for i in [24,1,19,28]:\n",
    "        ref_mean=np.nanmean(country_analysis.running_mean_func(pr[i].area_average['lat_weighted']['SEN'],240)[np.where((pr[i].year>=1989) & (pr[i].year<=2003))])\n",
    "        pr[i].plot_transients(ax=ax,running_mean_years=20,\n",
    "                              label=plot_dict[i]['label']+' '+str(round(ref_mean,2)),\n",
    "                              color=plot_dict[i]['color'],shading_range=[0,100])\n",
    "    ax.plot([1986,1986],ax.get_ylim(),'k')\n",
    "    ax.plot([2005,2005],ax.get_ylim(),'k')\n",
    "\n",
    "    box = ax.get_position()\n",
    "    ax.set_position([box.x0, box.y0, box.width * 0.7, box.height])\n",
    "    ax.legend(loc='center left', bbox_to_anchor=(1, 0.5))   \n",
    "\n",
    "    ax.set_title(indicator+' Senegal')\n",
    "    plt.savefig(COU._working_directory+'plots/'+indicator+'_transients.png',dpi=300)\n",
    "plt.show()"
   ]
  },
  {
   "cell_type": "code",
   "execution_count": 65,
   "metadata": {
    "collapsed": false
   },
   "outputs": [],
   "source": [
    "# Bias correction maps\n",
    "COU.period_statistics(periods={'ref':[1986,2006]})\n",
    "COU.period_model_agreement()\n",
    "\n",
    "for indicator in ['TXx','RX1','RX5','pr','tas']:\n",
    "\n",
    "    ens_BC=COU.find_ensemble([indicator,'CORDEX_BC'])\n",
    "    ens_noBC=COU.find_ensemble([indicator,'CORDEX'])\n",
    "    ens_cmip5=COU.find_ensemble([indicator,'CMIP5_BC'])\n",
    "    ewembi=COU.selection([indicator,'EWEMBI'])[0]\n",
    "\n",
    "    bias_corretion_check=COU._working_directory+'plots/'+indicator+'_BC_check.png'\n",
    "    fig,axes=plt.subplots(nrows=4,ncols=6,figsize=(10,5))\n",
    "    axes=axes.flatten()\n",
    "\n",
    "    # find nice colorrange\n",
    "    abs_boundary=[]\n",
    "    for model in ens_BC['models'].values():\n",
    "        to_plot=model.period['mean']['annual']['ref']-ewembi.period['mean']['annual']['ref']\n",
    "        abs_boundary.append(max(abs(np.nanpercentile(to_plot,[25,75]))))\n",
    "\n",
    "    color_range=[-max(abs_boundary),max(abs_boundary)]\n",
    "\n",
    "    # plot ref\n",
    "    for model,i in zip(ens_cmip5['models'].values()+[ens_cmip5['mean']],range(len(ens_cmip5['models'].values())+1)):\n",
    "        to_plot=model.period['mean']['annual']['ref']-ewembi.period['mean']['annual']['ref']\n",
    "        im,color_range=model.plot_map(to_plot=to_plot,ax=axes[i],title='',color_bar=False,color_range=color_range,color_palette=plt.cm.PiYG_r)\n",
    "        axes[i].set_title(model.model,fontsize=8)\n",
    "\n",
    "    for model,i in zip(ens_noBC['models'].values()+[ens_noBC['mean']],range(len(ens_noBC['models'].values())+1)):\n",
    "        to_plot=model.period['mean']['annual']['ref']-ewembi.period['mean']['annual']['ref']\n",
    "        im,color_range=model.plot_map(to_plot=to_plot,ax=axes[i+6],title='',color_bar=False,color_range=color_range,color_palette=plt.cm.PiYG_r)\n",
    "        axes[i+6].set_title(model.model,fontsize=8)\n",
    "\n",
    "    for model,i in zip(ens_BC['models'].values()+[ens_BC['mean']],range(len(ens_BC['models'].values())+1)):\n",
    "        to_plot=model.period['mean']['annual']['ref']-ewembi.period['mean']['annual']['ref']\n",
    "        im,color_range=model.plot_map(to_plot=to_plot,ax=axes[i+12],title='',color_bar=False,color_range=color_range,color_palette=plt.cm.PiYG_r)\n",
    "        axes[i+12].set_title(model.model,fontsize=8)\n",
    "\n",
    "    axes[0].set_ylabel('CMIP5\\nBias-corrected')\n",
    "    axes[6].set_ylabel('CORDEX')\n",
    "    axes[12].set_ylabel('CORDEX\\nBias-corrected')\n",
    "    for i in [11,17,18,19,20,21,22,23]: axes[i].axis('off')\n",
    "\n",
    "    if im!=0:\n",
    "        cbar_ax=fig.add_axes([0.3,0.2,0.4,0.6])\n",
    "        cbar_ax.axis('off')\n",
    "        cb=fig.colorbar(im,orientation='horizontal',label='Precipitation')\n",
    "\n",
    "        plt.suptitle('Model - EWEMBI over Refernce Period (1986-2006)')\n",
    "        plt.savefig(bias_corretion_check,dpi=300)"
   ]
  },
  {
   "cell_type": "code",
   "execution_count": null,
   "metadata": {
    "collapsed": true
   },
   "outputs": [],
   "source": []
  }
 ],
 "metadata": {
  "kernelspec": {
   "display_name": "Python [conda env:py_masks]",
   "language": "python",
   "name": "conda-env-py_masks-py"
  },
  "language_info": {
   "codemirror_mode": {
    "name": "ipython",
    "version": 2
   },
   "file_extension": ".py",
   "mimetype": "text/x-python",
   "name": "python",
   "nbconvert_exporter": "python",
   "pygments_lexer": "ipython2",
   "version": "2.7.12"
  }
 },
 "nbformat": 4,
 "nbformat_minor": 2
}
